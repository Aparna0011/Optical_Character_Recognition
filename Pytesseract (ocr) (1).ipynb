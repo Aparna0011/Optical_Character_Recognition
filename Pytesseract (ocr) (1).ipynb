{
 "cells": [
  {
   "cell_type": "code",
   "execution_count": 7,
   "id": "af23d92f",
   "metadata": {},
   "outputs": [
    {
     "name": "stdout",
     "output_type": "stream",
     "text": [
      "Extracted Text:\n",
      "A Python Approach to Character\n",
      "Recognition\n",
      "\n"
     ]
    }
   ],
   "source": [
    "import cv2\n",
    "import pytesseract\n",
    "\n",
    "# Set the path for Tesseract (make sure it is correct)\n",
    "pytesseract.pytesseract.tesseract_cmd = r\"C:\\Program Files\\Tesseract-OCR\\tesseract.exe\"\n",
    "\n",
    "# Load the image\n",
    "img = cv2.imread('text.png')\n",
    "\n",
    "# Convert to grayscale\n",
    "img = cv2.cvtColor(img, cv2.COLOR_BGR2GRAY)\n",
    "\n",
    "# Apply thresholding\n",
    "img = cv2.threshold(img, 0, 255, cv2.THRESH_BINARY + cv2.THRESH_OTSU)[1]\n",
    "\n",
    "# Apply median blur (to reduce noise)\n",
    "img = cv2.medianBlur(img, 5)\n",
    "\n",
    "# Extract text using Tesseract OCR\n",
    "text = pytesseract.image_to_string(img)\n",
    "\n",
    "print(\"Extracted Text:\")\n",
    "print(text)\n"
   ]
  },
  {
   "cell_type": "code",
   "execution_count": 8,
   "id": "3e53074e",
   "metadata": {},
   "outputs": [
    {
     "name": "stdout",
     "output_type": "stream",
     "text": [
      "Extracted Text:\n",
      "Narrative\n",
      "\n",
      "A story or description of\n",
      "events which is written or\n",
      "told in detail. A narrative\n",
      "may be told as a story,\n",
      "poem, song, dance, or\n",
      "\n",
      "play. A\n",
      "\n",
      "@ \"Pre\n",
      "\n",
      "ee!\n",
      "\n",
      "WRITING POSTERS TEXT TYPES |\n",
      "\n",
      "\n"
     ]
    }
   ],
   "source": [
    "\n",
    "# Set the path for Tesseract (make sure it is correct)\n",
    "pytesseract.pytesseract.tesseract_cmd = r\"C:\\Program Files\\Tesseract-OCR\\tesseract.exe\"\n",
    "\n",
    "# Load the image\n",
    "img = cv2.imread('image.jpg')\n",
    "\n",
    "# Convert to grayscale\n",
    "img = cv2.cvtColor(img, cv2.COLOR_BGR2GRAY)\n",
    "\n",
    "# Apply thresholding\n",
    "img = cv2.threshold(img, 0, 255, cv2.THRESH_BINARY + cv2.THRESH_OTSU)[1]\n",
    "\n",
    "# Apply median blur (to reduce noise)\n",
    "img = cv2.medianBlur(img, 5)\n",
    "\n",
    "# Extract text using Tesseract OCR\n",
    "text = pytesseract.image_to_string(img)\n",
    "\n",
    "print(\"Extracted Text:\")\n",
    "print(text)\n"
   ]
  },
  {
   "cell_type": "code",
   "execution_count": null,
   "id": "9f843265",
   "metadata": {},
   "outputs": [],
   "source": []
  }
 ],
 "metadata": {
  "kernelspec": {
   "display_name": "Python 3 (ipykernel)",
   "language": "python",
   "name": "python3"
  },
  "language_info": {
   "codemirror_mode": {
    "name": "ipython",
    "version": 3
   },
   "file_extension": ".py",
   "mimetype": "text/x-python",
   "name": "python",
   "nbconvert_exporter": "python",
   "pygments_lexer": "ipython3",
   "version": "3.9.12"
  }
 },
 "nbformat": 4,
 "nbformat_minor": 5
}
